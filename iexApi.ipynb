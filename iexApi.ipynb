{
 "cells": [
  {
   "cell_type": "code",
   "execution_count": 5,
   "metadata": {},
   "outputs": [],
   "source": [
    "import pandas as pd \n",
    "import requests\n",
    "import json"
   ]
  },
  {
   "cell_type": "markdown",
   "metadata": {},
   "source": [
    "# A function to get intraday prices (1 min)\n",
    "We need two majors informations such as : Date (YYYY-MM-JJ) and MarketSymbol"
   ]
  },
  {
   "cell_type": "code",
   "execution_count": 1,
   "metadata": {},
   "outputs": [],
   "source": [
    "def getMinutePrices(date,marketSymbol):\n",
    "    \"\"\"date format is YYYY-MM-JJ\"\"\"\n",
    "    \n",
    "    token = \"\" #complete with your token\n",
    "    url_base = \"https://cloud.iexapis.com/stable/\"\n",
    "    url = url_base+\"stock/\"+marketSymbol+\"/chart/date/\"+date+\"?token=\"+token\n",
    "    \n",
    "    r=requests.get(url,timeout=10)\n",
    "    rep = json.loads(r.text)\n",
    "    if rep == []: return;\n",
    "    df = pd.DataFrame(rep)\n",
    "    df['date']=pd.to_datetime(df.date+\" \"+df.minute)\n",
    "    df = df.set_index('date')\n",
    "    df=df.drop(['label','minute'],axis=1)\n",
    "    return df "
   ]
  },
  {
   "cell_type": "code",
   "execution_count": 3,
   "metadata": {},
   "outputs": [],
   "source": [
    "def getIntradayDataTimeInterval(liste_dates,marketSymbol):\n",
    "    df = getMinutePrices(liste_dates[0],marketSymbol)\n",
    "    for i in range(1,len(liste_dates)):\n",
    "        df = pd.concat([df,getMinutePrices(liste_dates[i],marketSymbol)])\n",
    "    return df"
   ]
  },
  {
   "cell_type": "code",
   "execution_count": 232,
   "metadata": {},
   "outputs": [],
   "source": [
    "\n",
    "autre = getMinutePrices(\"20210407\",\"NAS\")\n",
    "autre"
   ]
  },
  {
   "cell_type": "code",
   "execution_count": 8,
   "metadata": {},
   "outputs": [],
   "source": [
    "autre = getIntradayDataTimeInterval([\"20210315\",\"20210316\",\n",
    "                                     \"20210317\",\"20210318\",\n",
    "                                     \"20210319\",\"20210322\",\n",
    "                                     \"20210323\",\"20210324\",\n",
    "                                     \"20210325\",\"20210326\",\n",
    "                                     \"20210329\",\"20210330\",\n",
    "                                     \"20210401\",\"20210402\",\n",
    "                                     \"20210405\",\"20210406\",\n",
    "                                     \"20210407\",\"20210408\",\"20210409\"],\"XOM\")"
   ]
  },
  {
   "cell_type": "code",
   "execution_count": 9,
   "metadata": {},
   "outputs": [],
   "source": [
    "autre.to_csv(\"intraday/xom.csv\")"
   ]
  },
  {
   "cell_type": "markdown",
   "metadata": {},
   "source": [
    "# Getting daily data "
   ]
  },
  {
   "cell_type": "code",
   "execution_count": 2,
   "metadata": {},
   "outputs": [],
   "source": [
    "def getLast5Y(marketSymbol):\n",
    "    \"\"\"date format is YYYY-MM-JJ\"\"\"\n",
    "    \n",
    "    token = \"\" #complete here \n",
    "    url_base = \"https://cloud.iexapis.com/stable/\"\n",
    "    url = url_base+\"stock/\"+marketSymbol+\"/chart/5y?token=\"+token\n",
    "    \n",
    "    r=requests.get(url,timeout=10)\n",
    "    rep = json.loads(r.text)\n",
    "    if rep == []: return;\n",
    "    df = pd.DataFrame(rep)\n",
    "    df['date']=pd.to_datetime(df.date)\n",
    "    df = df.set_index('date')\n",
    "    df=df.drop(['label'],axis=1)\n",
    "    return df "
   ]
  },
  {
   "cell_type": "code",
   "execution_count": 219,
   "metadata": {},
   "outputs": [],
   "source": [
    "exon = getLast5Y(\"xom\")"
   ]
  },
  {
   "cell_type": "code",
   "execution_count": 222,
   "metadata": {},
   "outputs": [],
   "source": [
    "exon.to_csv(\"daily/exon.csv\")"
   ]
  }
 ],
 "metadata": {
  "kernelspec": {
   "display_name": "Python 3 (ipykernel)",
   "language": "python",
   "name": "python3"
  },
  "language_info": {
   "codemirror_mode": {
    "name": "ipython",
    "version": 3
   },
   "file_extension": ".py",
   "mimetype": "text/x-python",
   "name": "python",
   "nbconvert_exporter": "python",
   "pygments_lexer": "ipython3",
   "version": "3.9.13"
  }
 },
 "nbformat": 4,
 "nbformat_minor": 4
}
